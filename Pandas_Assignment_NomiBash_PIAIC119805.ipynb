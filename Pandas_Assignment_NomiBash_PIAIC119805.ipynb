{
 "cells": [
  {
   "cell_type": "code",
   "execution_count": 21,
   "metadata": {},
   "outputs": [],
   "source": [
    "import pandas as pd\n",
    "import numpy as np\n",
    "import os\n",
    "import matplotlib.pyplot as plt\n",
    "%matplotlib inline"
   ]
  },
  {
   "cell_type": "code",
   "execution_count": 2,
   "metadata": {},
   "outputs": [
    {
     "data": {
      "text/plain": [
       "['.ipynb_checkpoints',\n",
       " 'inventory.csv',\n",
       " 'states0.csv',\n",
       " 'states1.csv',\n",
       " 'states2.csv',\n",
       " 'states3.csv',\n",
       " 'states4.csv',\n",
       " 'states5.csv',\n",
       " 'states6.csv',\n",
       " 'states7.csv',\n",
       " 'states8.csv',\n",
       " 'states9.csv',\n",
       " 'Untitled.ipynb']"
      ]
     },
     "execution_count": 2,
     "metadata": {},
     "output_type": "execute_result"
    }
   ],
   "source": [
    "os.listdir()"
   ]
  },
  {
   "cell_type": "code",
   "execution_count": 3,
   "metadata": {},
   "outputs": [],
   "source": [
    "listOfStates = os.listdir()[4:-1]\n",
    "cols = ['State', 'TotalPop', 'Hispanic', 'White', 'Black','Native', 'Asian', 'Pacific', 'Income', 'GenderPop']"
   ]
  },
  {
   "cell_type": "code",
   "execution_count": 4,
   "metadata": {},
   "outputs": [],
   "source": [
    "states = pd.concat([pd.read_csv(f, usecols = cols ) for f in listOfStates])"
   ]
  },
  {
   "cell_type": "code",
   "execution_count": 5,
   "metadata": {},
   "outputs": [
    {
     "name": "stdout",
     "output_type": "stream",
     "text": [
      "<class 'pandas.core.frame.DataFrame'>\n",
      "Int64Index: 48 entries, 0 to 5\n",
      "Data columns (total 10 columns):\n",
      "State        48 non-null object\n",
      "TotalPop     48 non-null int64\n",
      "Hispanic     48 non-null object\n",
      "White        48 non-null object\n",
      "Black        48 non-null object\n",
      "Native       48 non-null object\n",
      "Asian        48 non-null object\n",
      "Pacific      46 non-null object\n",
      "Income       48 non-null object\n",
      "GenderPop    48 non-null object\n",
      "dtypes: int64(1), object(9)\n",
      "memory usage: 4.1+ KB\n"
     ]
    }
   ],
   "source": [
    "states.info()"
   ]
  },
  {
   "cell_type": "code",
   "execution_count": 6,
   "metadata": {},
   "outputs": [
    {
     "data": {
      "text/html": [
       "<div>\n",
       "<style scoped>\n",
       "    .dataframe tbody tr th:only-of-type {\n",
       "        vertical-align: middle;\n",
       "    }\n",
       "\n",
       "    .dataframe tbody tr th {\n",
       "        vertical-align: top;\n",
       "    }\n",
       "\n",
       "    .dataframe thead th {\n",
       "        text-align: right;\n",
       "    }\n",
       "</style>\n",
       "<table border=\"1\" class=\"dataframe\">\n",
       "  <thead>\n",
       "    <tr style=\"text-align: right;\">\n",
       "      <th></th>\n",
       "      <th>State</th>\n",
       "      <th>TotalPop</th>\n",
       "      <th>Hispanic</th>\n",
       "      <th>White</th>\n",
       "      <th>Black</th>\n",
       "      <th>Native</th>\n",
       "      <th>Asian</th>\n",
       "      <th>Pacific</th>\n",
       "      <th>Income</th>\n",
       "      <th>GenderPop</th>\n",
       "    </tr>\n",
       "  </thead>\n",
       "  <tbody>\n",
       "    <tr>\n",
       "      <th>0</th>\n",
       "      <td>Georgia</td>\n",
       "      <td>10006693</td>\n",
       "      <td>8.418242207460397%</td>\n",
       "      <td>54.28630556974962%</td>\n",
       "      <td>32.08829841594277%</td>\n",
       "      <td>0.18758303525804798%</td>\n",
       "      <td>3.0976494634644895%</td>\n",
       "      <td>0.046601941747572824%</td>\n",
       "      <td>$50811.08205128205</td>\n",
       "      <td>4883331M_5123362F</td>\n",
       "    </tr>\n",
       "    <tr>\n",
       "      <th>1</th>\n",
       "      <td>Hawaii</td>\n",
       "      <td>1406299</td>\n",
       "      <td>9.186708860759486%</td>\n",
       "      <td>25.032278481012657%</td>\n",
       "      <td>2.052848101265823%</td>\n",
       "      <td>0.1449367088607596%</td>\n",
       "      <td>36.59208860759495%</td>\n",
       "      <td>8.758860759493672%</td>\n",
       "      <td>$73264.42628205128</td>\n",
       "      <td>709871M_696428F</td>\n",
       "    </tr>\n",
       "    <tr>\n",
       "      <th>2</th>\n",
       "      <td>Idaho</td>\n",
       "      <td>1616547</td>\n",
       "      <td>11.505369127516781%</td>\n",
       "      <td>83.1362416107383%</td>\n",
       "      <td>0.5667785234899323%</td>\n",
       "      <td>1.468120805369128%</td>\n",
       "      <td>1.135906040268457%</td>\n",
       "      <td>0.1271812080536914%</td>\n",
       "      <td>$48017.31543624161</td>\n",
       "      <td>810464M_806083F</td>\n",
       "    </tr>\n",
       "    <tr>\n",
       "      <th>3</th>\n",
       "      <td>Illinois</td>\n",
       "      <td>12873761</td>\n",
       "      <td>15.601733547351516%</td>\n",
       "      <td>60.85980738362764%</td>\n",
       "      <td>17.108410914927717%</td>\n",
       "      <td>0.11842696629213499%</td>\n",
       "      <td>4.475377207062604%</td>\n",
       "      <td>0.02003210272873195%</td>\n",
       "      <td>$59587.04887459807</td>\n",
       "      <td>6316899M_6556862F</td>\n",
       "    </tr>\n",
       "    <tr>\n",
       "      <th>4</th>\n",
       "      <td>Indiana</td>\n",
       "      <td>6568645</td>\n",
       "      <td>6.536744186046501%</td>\n",
       "      <td>78.43189368770771%</td>\n",
       "      <td>11.18697674418606%</td>\n",
       "      <td>0.1940863787375415%</td>\n",
       "      <td>1.5782724252491687%</td>\n",
       "      <td>0.03262458471760798%</td>\n",
       "      <td>$48616.22784810127</td>\n",
       "      <td>3235263M_3333382F</td>\n",
       "    </tr>\n",
       "    <tr>\n",
       "      <th>5</th>\n",
       "      <td>Iowa</td>\n",
       "      <td>3093526</td>\n",
       "      <td>5.30364520048603%</td>\n",
       "      <td>87.71968408262464%</td>\n",
       "      <td>3.2569866342648868%</td>\n",
       "      <td>0.2897934386391251%</td>\n",
       "      <td>1.699392466585662%</td>\n",
       "      <td>0.055164034021871235%</td>\n",
       "      <td>$53017.75304136253</td>\n",
       "      <td>1534595M_1558931F</td>\n",
       "    </tr>\n",
       "    <tr>\n",
       "      <th>0</th>\n",
       "      <td>Iowa</td>\n",
       "      <td>3093526</td>\n",
       "      <td>5.30364520048603%</td>\n",
       "      <td>87.71968408262464%</td>\n",
       "      <td>3.2569866342648868%</td>\n",
       "      <td>0.2897934386391251%</td>\n",
       "      <td>1.699392466585662%</td>\n",
       "      <td>0.055164034021871235%</td>\n",
       "      <td>$53017.75304136253</td>\n",
       "      <td>1534595M_1558931F</td>\n",
       "    </tr>\n",
       "    <tr>\n",
       "      <th>1</th>\n",
       "      <td>Kansas</td>\n",
       "      <td>2892987</td>\n",
       "      <td>11.644342105263148%</td>\n",
       "      <td>75.95828947368425%</td>\n",
       "      <td>6.5678947368421%</td>\n",
       "      <td>0.7339473684210529%</td>\n",
       "      <td>2.331052631578946%</td>\n",
       "      <td>NaN</td>\n",
       "      <td>$53885.612648221344</td>\n",
       "      <td>1439862M_1453125F</td>\n",
       "    </tr>\n",
       "    <tr>\n",
       "      <th>2</th>\n",
       "      <td>Kentucky</td>\n",
       "      <td>4397353</td>\n",
       "      <td>3.222993688007212%</td>\n",
       "      <td>85.2307484220019%</td>\n",
       "      <td>8.272317403065832%</td>\n",
       "      <td>0.1666366095581602%</td>\n",
       "      <td>1.1298467087466182%</td>\n",
       "      <td>0.046438232642019836%</td>\n",
       "      <td>$45285.80253623189</td>\n",
       "      <td>2164208M_2233145F</td>\n",
       "    </tr>\n",
       "    <tr>\n",
       "      <th>3</th>\n",
       "      <td>Louisiana</td>\n",
       "      <td>4625253</td>\n",
       "      <td>4.866489361702128%</td>\n",
       "      <td>54.978546099290796%</td>\n",
       "      <td>36.32624113475175%</td>\n",
       "      <td>0.48430851063829816%</td>\n",
       "      <td>1.669060283687941%</td>\n",
       "      <td>0.039184397163120555%</td>\n",
       "      <td>$44957.99376114082</td>\n",
       "      <td>2261156M_2364097F</td>\n",
       "    </tr>\n",
       "  </tbody>\n",
       "</table>\n",
       "</div>"
      ],
      "text/plain": [
       "       State  TotalPop             Hispanic                White  \\\n",
       "0    Georgia  10006693   8.418242207460397%   54.28630556974962%   \n",
       "1     Hawaii   1406299   9.186708860759486%  25.032278481012657%   \n",
       "2      Idaho   1616547  11.505369127516781%    83.1362416107383%   \n",
       "3   Illinois  12873761  15.601733547351516%   60.85980738362764%   \n",
       "4    Indiana   6568645   6.536744186046501%   78.43189368770771%   \n",
       "5       Iowa   3093526    5.30364520048603%   87.71968408262464%   \n",
       "0       Iowa   3093526    5.30364520048603%   87.71968408262464%   \n",
       "1     Kansas   2892987  11.644342105263148%   75.95828947368425%   \n",
       "2   Kentucky   4397353   3.222993688007212%    85.2307484220019%   \n",
       "3  Louisiana   4625253   4.866489361702128%  54.978546099290796%   \n",
       "\n",
       "                 Black                Native                Asian  \\\n",
       "0   32.08829841594277%  0.18758303525804798%  3.0976494634644895%   \n",
       "1   2.052848101265823%   0.1449367088607596%   36.59208860759495%   \n",
       "2  0.5667785234899323%    1.468120805369128%   1.135906040268457%   \n",
       "3  17.108410914927717%  0.11842696629213499%   4.475377207062604%   \n",
       "4   11.18697674418606%   0.1940863787375415%  1.5782724252491687%   \n",
       "5  3.2569866342648868%   0.2897934386391251%   1.699392466585662%   \n",
       "0  3.2569866342648868%   0.2897934386391251%   1.699392466585662%   \n",
       "1     6.5678947368421%   0.7339473684210529%   2.331052631578946%   \n",
       "2   8.272317403065832%   0.1666366095581602%  1.1298467087466182%   \n",
       "3   36.32624113475175%  0.48430851063829816%   1.669060283687941%   \n",
       "\n",
       "                 Pacific               Income          GenderPop  \n",
       "0  0.046601941747572824%   $50811.08205128205  4883331M_5123362F  \n",
       "1     8.758860759493672%   $73264.42628205128    709871M_696428F  \n",
       "2    0.1271812080536914%   $48017.31543624161    810464M_806083F  \n",
       "3   0.02003210272873195%   $59587.04887459807  6316899M_6556862F  \n",
       "4   0.03262458471760798%   $48616.22784810127  3235263M_3333382F  \n",
       "5  0.055164034021871235%   $53017.75304136253  1534595M_1558931F  \n",
       "0  0.055164034021871235%   $53017.75304136253  1534595M_1558931F  \n",
       "1                    NaN  $53885.612648221344  1439862M_1453125F  \n",
       "2  0.046438232642019836%   $45285.80253623189  2164208M_2233145F  \n",
       "3  0.039184397163120555%   $44957.99376114082  2261156M_2364097F  "
      ]
     },
     "execution_count": 6,
     "metadata": {},
     "output_type": "execute_result"
    }
   ],
   "source": [
    "states.head(10)"
   ]
  },
  {
   "cell_type": "code",
   "execution_count": 7,
   "metadata": {},
   "outputs": [],
   "source": [
    "states['Pacific'] = states['Pacific'].fillna('%')"
   ]
  },
  {
   "cell_type": "code",
   "execution_count": 8,
   "metadata": {},
   "outputs": [],
   "source": [
    "states['Hispanic'] = states['Hispanic'].apply(lambda x: x.rstrip('%'))\n",
    "states['White'] = states['White'].apply(lambda x: x.rstrip('%'))\n",
    "states['Black'] = states['Black'].apply(lambda x: x.rstrip('%'))\n",
    "states['Native'] = states['Native'].apply(lambda x: x.rstrip('%'))\n",
    "states['Asian'] = states['Asian'].apply(lambda x: x.rstrip('%'))\n",
    "states['Pacific'] = states['Pacific'].apply(lambda x: x.rstrip('%'))\n",
    "states['Income'] = states['Income'].apply(lambda x: x.lstrip('$'))\n",
    "states['MalePop'] = states['GenderPop'].apply(lambda x: x.split('_')[0].rstrip('M'))\n",
    "states['FemalePop'] = states['GenderPop'].apply(lambda x: x.split('_')[1].rstrip('F'))\n",
    "\n",
    "states.replace(r'^\\s*$', np.nan, regex=True,inplace=True)"
   ]
  },
  {
   "cell_type": "code",
   "execution_count": 9,
   "metadata": {},
   "outputs": [
    {
     "data": {
      "text/html": [
       "<div>\n",
       "<style scoped>\n",
       "    .dataframe tbody tr th:only-of-type {\n",
       "        vertical-align: middle;\n",
       "    }\n",
       "\n",
       "    .dataframe tbody tr th {\n",
       "        vertical-align: top;\n",
       "    }\n",
       "\n",
       "    .dataframe thead th {\n",
       "        text-align: right;\n",
       "    }\n",
       "</style>\n",
       "<table border=\"1\" class=\"dataframe\">\n",
       "  <thead>\n",
       "    <tr style=\"text-align: right;\">\n",
       "      <th></th>\n",
       "      <th>State</th>\n",
       "      <th>TotalPop</th>\n",
       "      <th>Hispanic</th>\n",
       "      <th>White</th>\n",
       "      <th>Black</th>\n",
       "      <th>Native</th>\n",
       "      <th>Asian</th>\n",
       "      <th>Pacific</th>\n",
       "      <th>Income</th>\n",
       "      <th>GenderPop</th>\n",
       "      <th>MalePop</th>\n",
       "      <th>FemalePop</th>\n",
       "    </tr>\n",
       "  </thead>\n",
       "  <tbody>\n",
       "    <tr>\n",
       "      <th>0</th>\n",
       "      <td>Georgia</td>\n",
       "      <td>10006693</td>\n",
       "      <td>8.418242207460397</td>\n",
       "      <td>54.28630556974962</td>\n",
       "      <td>32.08829841594277</td>\n",
       "      <td>0.18758303525804798</td>\n",
       "      <td>3.0976494634644895</td>\n",
       "      <td>0.046601941747572824</td>\n",
       "      <td>50811.08205128205</td>\n",
       "      <td>4883331M_5123362F</td>\n",
       "      <td>4883331</td>\n",
       "      <td>5123362</td>\n",
       "    </tr>\n",
       "    <tr>\n",
       "      <th>1</th>\n",
       "      <td>Hawaii</td>\n",
       "      <td>1406299</td>\n",
       "      <td>9.186708860759486</td>\n",
       "      <td>25.032278481012657</td>\n",
       "      <td>2.052848101265823</td>\n",
       "      <td>0.1449367088607596</td>\n",
       "      <td>36.59208860759495</td>\n",
       "      <td>8.758860759493672</td>\n",
       "      <td>73264.42628205128</td>\n",
       "      <td>709871M_696428F</td>\n",
       "      <td>709871</td>\n",
       "      <td>696428</td>\n",
       "    </tr>\n",
       "    <tr>\n",
       "      <th>2</th>\n",
       "      <td>Idaho</td>\n",
       "      <td>1616547</td>\n",
       "      <td>11.505369127516781</td>\n",
       "      <td>83.1362416107383</td>\n",
       "      <td>0.5667785234899323</td>\n",
       "      <td>1.468120805369128</td>\n",
       "      <td>1.135906040268457</td>\n",
       "      <td>0.1271812080536914</td>\n",
       "      <td>48017.31543624161</td>\n",
       "      <td>810464M_806083F</td>\n",
       "      <td>810464</td>\n",
       "      <td>806083</td>\n",
       "    </tr>\n",
       "    <tr>\n",
       "      <th>3</th>\n",
       "      <td>Illinois</td>\n",
       "      <td>12873761</td>\n",
       "      <td>15.601733547351516</td>\n",
       "      <td>60.85980738362764</td>\n",
       "      <td>17.108410914927717</td>\n",
       "      <td>0.11842696629213499</td>\n",
       "      <td>4.475377207062604</td>\n",
       "      <td>0.02003210272873195</td>\n",
       "      <td>59587.04887459807</td>\n",
       "      <td>6316899M_6556862F</td>\n",
       "      <td>6316899</td>\n",
       "      <td>6556862</td>\n",
       "    </tr>\n",
       "    <tr>\n",
       "      <th>4</th>\n",
       "      <td>Indiana</td>\n",
       "      <td>6568645</td>\n",
       "      <td>6.536744186046501</td>\n",
       "      <td>78.43189368770771</td>\n",
       "      <td>11.18697674418606</td>\n",
       "      <td>0.1940863787375415</td>\n",
       "      <td>1.5782724252491687</td>\n",
       "      <td>0.03262458471760798</td>\n",
       "      <td>48616.22784810127</td>\n",
       "      <td>3235263M_3333382F</td>\n",
       "      <td>3235263</td>\n",
       "      <td>3333382</td>\n",
       "    </tr>\n",
       "    <tr>\n",
       "      <th>5</th>\n",
       "      <td>Iowa</td>\n",
       "      <td>3093526</td>\n",
       "      <td>5.30364520048603</td>\n",
       "      <td>87.71968408262464</td>\n",
       "      <td>3.2569866342648868</td>\n",
       "      <td>0.2897934386391251</td>\n",
       "      <td>1.699392466585662</td>\n",
       "      <td>0.055164034021871235</td>\n",
       "      <td>53017.75304136253</td>\n",
       "      <td>1534595M_1558931F</td>\n",
       "      <td>1534595</td>\n",
       "      <td>1558931</td>\n",
       "    </tr>\n",
       "    <tr>\n",
       "      <th>0</th>\n",
       "      <td>Iowa</td>\n",
       "      <td>3093526</td>\n",
       "      <td>5.30364520048603</td>\n",
       "      <td>87.71968408262464</td>\n",
       "      <td>3.2569866342648868</td>\n",
       "      <td>0.2897934386391251</td>\n",
       "      <td>1.699392466585662</td>\n",
       "      <td>0.055164034021871235</td>\n",
       "      <td>53017.75304136253</td>\n",
       "      <td>1534595M_1558931F</td>\n",
       "      <td>1534595</td>\n",
       "      <td>1558931</td>\n",
       "    </tr>\n",
       "    <tr>\n",
       "      <th>1</th>\n",
       "      <td>Kansas</td>\n",
       "      <td>2892987</td>\n",
       "      <td>11.644342105263148</td>\n",
       "      <td>75.95828947368425</td>\n",
       "      <td>6.5678947368421</td>\n",
       "      <td>0.7339473684210529</td>\n",
       "      <td>2.331052631578946</td>\n",
       "      <td>NaN</td>\n",
       "      <td>53885.612648221344</td>\n",
       "      <td>1439862M_1453125F</td>\n",
       "      <td>1439862</td>\n",
       "      <td>1453125</td>\n",
       "    </tr>\n",
       "    <tr>\n",
       "      <th>2</th>\n",
       "      <td>Kentucky</td>\n",
       "      <td>4397353</td>\n",
       "      <td>3.222993688007212</td>\n",
       "      <td>85.2307484220019</td>\n",
       "      <td>8.272317403065832</td>\n",
       "      <td>0.1666366095581602</td>\n",
       "      <td>1.1298467087466182</td>\n",
       "      <td>0.046438232642019836</td>\n",
       "      <td>45285.80253623189</td>\n",
       "      <td>2164208M_2233145F</td>\n",
       "      <td>2164208</td>\n",
       "      <td>2233145</td>\n",
       "    </tr>\n",
       "    <tr>\n",
       "      <th>3</th>\n",
       "      <td>Louisiana</td>\n",
       "      <td>4625253</td>\n",
       "      <td>4.866489361702128</td>\n",
       "      <td>54.978546099290796</td>\n",
       "      <td>36.32624113475175</td>\n",
       "      <td>0.48430851063829816</td>\n",
       "      <td>1.669060283687941</td>\n",
       "      <td>0.039184397163120555</td>\n",
       "      <td>44957.99376114082</td>\n",
       "      <td>2261156M_2364097F</td>\n",
       "      <td>2261156</td>\n",
       "      <td>2364097</td>\n",
       "    </tr>\n",
       "  </tbody>\n",
       "</table>\n",
       "</div>"
      ],
      "text/plain": [
       "       State  TotalPop            Hispanic               White  \\\n",
       "0    Georgia  10006693   8.418242207460397   54.28630556974962   \n",
       "1     Hawaii   1406299   9.186708860759486  25.032278481012657   \n",
       "2      Idaho   1616547  11.505369127516781    83.1362416107383   \n",
       "3   Illinois  12873761  15.601733547351516   60.85980738362764   \n",
       "4    Indiana   6568645   6.536744186046501   78.43189368770771   \n",
       "5       Iowa   3093526    5.30364520048603   87.71968408262464   \n",
       "0       Iowa   3093526    5.30364520048603   87.71968408262464   \n",
       "1     Kansas   2892987  11.644342105263148   75.95828947368425   \n",
       "2   Kentucky   4397353   3.222993688007212    85.2307484220019   \n",
       "3  Louisiana   4625253   4.866489361702128  54.978546099290796   \n",
       "\n",
       "                Black               Native               Asian  \\\n",
       "0   32.08829841594277  0.18758303525804798  3.0976494634644895   \n",
       "1   2.052848101265823   0.1449367088607596   36.59208860759495   \n",
       "2  0.5667785234899323    1.468120805369128   1.135906040268457   \n",
       "3  17.108410914927717  0.11842696629213499   4.475377207062604   \n",
       "4   11.18697674418606   0.1940863787375415  1.5782724252491687   \n",
       "5  3.2569866342648868   0.2897934386391251   1.699392466585662   \n",
       "0  3.2569866342648868   0.2897934386391251   1.699392466585662   \n",
       "1     6.5678947368421   0.7339473684210529   2.331052631578946   \n",
       "2   8.272317403065832   0.1666366095581602  1.1298467087466182   \n",
       "3   36.32624113475175  0.48430851063829816   1.669060283687941   \n",
       "\n",
       "                Pacific              Income          GenderPop  MalePop  \\\n",
       "0  0.046601941747572824   50811.08205128205  4883331M_5123362F  4883331   \n",
       "1     8.758860759493672   73264.42628205128    709871M_696428F   709871   \n",
       "2    0.1271812080536914   48017.31543624161    810464M_806083F   810464   \n",
       "3   0.02003210272873195   59587.04887459807  6316899M_6556862F  6316899   \n",
       "4   0.03262458471760798   48616.22784810127  3235263M_3333382F  3235263   \n",
       "5  0.055164034021871235   53017.75304136253  1534595M_1558931F  1534595   \n",
       "0  0.055164034021871235   53017.75304136253  1534595M_1558931F  1534595   \n",
       "1                   NaN  53885.612648221344  1439862M_1453125F  1439862   \n",
       "2  0.046438232642019836   45285.80253623189  2164208M_2233145F  2164208   \n",
       "3  0.039184397163120555   44957.99376114082  2261156M_2364097F  2261156   \n",
       "\n",
       "  FemalePop  \n",
       "0   5123362  \n",
       "1    696428  \n",
       "2    806083  \n",
       "3   6556862  \n",
       "4   3333382  \n",
       "5   1558931  \n",
       "0   1558931  \n",
       "1   1453125  \n",
       "2   2233145  \n",
       "3   2364097  "
      ]
     },
     "execution_count": 9,
     "metadata": {},
     "output_type": "execute_result"
    }
   ],
   "source": [
    "states.head(10)"
   ]
  },
  {
   "cell_type": "code",
   "execution_count": 10,
   "metadata": {},
   "outputs": [
    {
     "name": "stdout",
     "output_type": "stream",
     "text": [
      "<class 'pandas.core.frame.DataFrame'>\n",
      "Int64Index: 48 entries, 0 to 5\n",
      "Data columns (total 12 columns):\n",
      "State        48 non-null object\n",
      "TotalPop     48 non-null int64\n",
      "Hispanic     48 non-null object\n",
      "White        48 non-null object\n",
      "Black        48 non-null object\n",
      "Native       48 non-null object\n",
      "Asian        48 non-null object\n",
      "Pacific      46 non-null object\n",
      "Income       48 non-null object\n",
      "GenderPop    48 non-null object\n",
      "MalePop      48 non-null object\n",
      "FemalePop    45 non-null object\n",
      "dtypes: int64(1), object(11)\n",
      "memory usage: 4.9+ KB\n"
     ]
    }
   ],
   "source": [
    "states.info()"
   ]
  },
  {
   "cell_type": "code",
   "execution_count": 11,
   "metadata": {},
   "outputs": [],
   "source": [
    "states['Hispanic'] = states['Hispanic'].astype(float)\n",
    "states['White'] = states['White'].astype(float)\n",
    "states['Black'] = states['Black'].astype(float)\n",
    "states['Native'] = states['Native'].astype(float)\n",
    "states['Asian'] = states['Asian'].astype(float)\n",
    "states['Pacific'] = states['Pacific'].astype(float)\n",
    "states['Income'] = states['Income'].astype(float)\n",
    "states['MalePop'] = states['MalePop'].astype(float)\n",
    "states['FemalePop'] = states['FemalePop'].astype(float)"
   ]
  },
  {
   "cell_type": "code",
   "execution_count": 12,
   "metadata": {},
   "outputs": [
    {
     "name": "stdout",
     "output_type": "stream",
     "text": [
      "<class 'pandas.core.frame.DataFrame'>\n",
      "Int64Index: 48 entries, 0 to 5\n",
      "Data columns (total 12 columns):\n",
      "State        48 non-null object\n",
      "TotalPop     48 non-null int64\n",
      "Hispanic     48 non-null float64\n",
      "White        48 non-null float64\n",
      "Black        48 non-null float64\n",
      "Native       48 non-null float64\n",
      "Asian        48 non-null float64\n",
      "Pacific      46 non-null float64\n",
      "Income       48 non-null float64\n",
      "GenderPop    48 non-null object\n",
      "MalePop      48 non-null float64\n",
      "FemalePop    45 non-null float64\n",
      "dtypes: float64(9), int64(1), object(2)\n",
      "memory usage: 4.9+ KB\n"
     ]
    }
   ],
   "source": [
    "states.info()"
   ]
  },
  {
   "cell_type": "code",
   "execution_count": 13,
   "metadata": {},
   "outputs": [
    {
     "data": {
      "text/html": [
       "<div>\n",
       "<style scoped>\n",
       "    .dataframe tbody tr th:only-of-type {\n",
       "        vertical-align: middle;\n",
       "    }\n",
       "\n",
       "    .dataframe tbody tr th {\n",
       "        vertical-align: top;\n",
       "    }\n",
       "\n",
       "    .dataframe thead th {\n",
       "        text-align: right;\n",
       "    }\n",
       "</style>\n",
       "<table border=\"1\" class=\"dataframe\">\n",
       "  <thead>\n",
       "    <tr style=\"text-align: right;\">\n",
       "      <th></th>\n",
       "      <th>State</th>\n",
       "      <th>TotalPop</th>\n",
       "      <th>Hispanic</th>\n",
       "      <th>White</th>\n",
       "      <th>Black</th>\n",
       "      <th>Native</th>\n",
       "      <th>Asian</th>\n",
       "      <th>Pacific</th>\n",
       "      <th>Income</th>\n",
       "      <th>GenderPop</th>\n",
       "      <th>MalePop</th>\n",
       "      <th>FemalePop</th>\n",
       "    </tr>\n",
       "  </thead>\n",
       "  <tbody>\n",
       "    <tr>\n",
       "      <th>0</th>\n",
       "      <td>Georgia</td>\n",
       "      <td>10006693</td>\n",
       "      <td>8.418242</td>\n",
       "      <td>54.286306</td>\n",
       "      <td>32.088298</td>\n",
       "      <td>0.187583</td>\n",
       "      <td>3.097649</td>\n",
       "      <td>0.046602</td>\n",
       "      <td>50811.082051</td>\n",
       "      <td>4883331M_5123362F</td>\n",
       "      <td>4883331.0</td>\n",
       "      <td>5123362.0</td>\n",
       "    </tr>\n",
       "    <tr>\n",
       "      <th>1</th>\n",
       "      <td>Hawaii</td>\n",
       "      <td>1406299</td>\n",
       "      <td>9.186709</td>\n",
       "      <td>25.032278</td>\n",
       "      <td>2.052848</td>\n",
       "      <td>0.144937</td>\n",
       "      <td>36.592089</td>\n",
       "      <td>8.758861</td>\n",
       "      <td>73264.426282</td>\n",
       "      <td>709871M_696428F</td>\n",
       "      <td>709871.0</td>\n",
       "      <td>696428.0</td>\n",
       "    </tr>\n",
       "    <tr>\n",
       "      <th>2</th>\n",
       "      <td>Idaho</td>\n",
       "      <td>1616547</td>\n",
       "      <td>11.505369</td>\n",
       "      <td>83.136242</td>\n",
       "      <td>0.566779</td>\n",
       "      <td>1.468121</td>\n",
       "      <td>1.135906</td>\n",
       "      <td>0.127181</td>\n",
       "      <td>48017.315436</td>\n",
       "      <td>810464M_806083F</td>\n",
       "      <td>810464.0</td>\n",
       "      <td>806083.0</td>\n",
       "    </tr>\n",
       "    <tr>\n",
       "      <th>3</th>\n",
       "      <td>Illinois</td>\n",
       "      <td>12873761</td>\n",
       "      <td>15.601734</td>\n",
       "      <td>60.859807</td>\n",
       "      <td>17.108411</td>\n",
       "      <td>0.118427</td>\n",
       "      <td>4.475377</td>\n",
       "      <td>0.020032</td>\n",
       "      <td>59587.048875</td>\n",
       "      <td>6316899M_6556862F</td>\n",
       "      <td>6316899.0</td>\n",
       "      <td>6556862.0</td>\n",
       "    </tr>\n",
       "    <tr>\n",
       "      <th>4</th>\n",
       "      <td>Indiana</td>\n",
       "      <td>6568645</td>\n",
       "      <td>6.536744</td>\n",
       "      <td>78.431894</td>\n",
       "      <td>11.186977</td>\n",
       "      <td>0.194086</td>\n",
       "      <td>1.578272</td>\n",
       "      <td>0.032625</td>\n",
       "      <td>48616.227848</td>\n",
       "      <td>3235263M_3333382F</td>\n",
       "      <td>3235263.0</td>\n",
       "      <td>3333382.0</td>\n",
       "    </tr>\n",
       "  </tbody>\n",
       "</table>\n",
       "</div>"
      ],
      "text/plain": [
       "      State  TotalPop   Hispanic      White      Black    Native      Asian  \\\n",
       "0   Georgia  10006693   8.418242  54.286306  32.088298  0.187583   3.097649   \n",
       "1    Hawaii   1406299   9.186709  25.032278   2.052848  0.144937  36.592089   \n",
       "2     Idaho   1616547  11.505369  83.136242   0.566779  1.468121   1.135906   \n",
       "3  Illinois  12873761  15.601734  60.859807  17.108411  0.118427   4.475377   \n",
       "4   Indiana   6568645   6.536744  78.431894  11.186977  0.194086   1.578272   \n",
       "\n",
       "    Pacific        Income          GenderPop    MalePop  FemalePop  \n",
       "0  0.046602  50811.082051  4883331M_5123362F  4883331.0  5123362.0  \n",
       "1  8.758861  73264.426282    709871M_696428F   709871.0   696428.0  \n",
       "2  0.127181  48017.315436    810464M_806083F   810464.0   806083.0  \n",
       "3  0.020032  59587.048875  6316899M_6556862F  6316899.0  6556862.0  \n",
       "4  0.032625  48616.227848  3235263M_3333382F  3235263.0  3333382.0  "
      ]
     },
     "execution_count": 13,
     "metadata": {},
     "output_type": "execute_result"
    }
   ],
   "source": [
    "states.head()"
   ]
  },
  {
   "cell_type": "code",
   "execution_count": 14,
   "metadata": {},
   "outputs": [],
   "source": [
    "states.drop_duplicates(inplace=True)"
   ]
  },
  {
   "cell_type": "code",
   "execution_count": 15,
   "metadata": {},
   "outputs": [
    {
     "name": "stdout",
     "output_type": "stream",
     "text": [
      "<class 'pandas.core.frame.DataFrame'>\n",
      "Int64Index: 41 entries, 0 to 5\n",
      "Data columns (total 12 columns):\n",
      "State        41 non-null object\n",
      "TotalPop     41 non-null int64\n",
      "Hispanic     41 non-null float64\n",
      "White        41 non-null float64\n",
      "Black        41 non-null float64\n",
      "Native       41 non-null float64\n",
      "Asian        41 non-null float64\n",
      "Pacific      39 non-null float64\n",
      "Income       41 non-null float64\n",
      "GenderPop    41 non-null object\n",
      "MalePop      41 non-null float64\n",
      "FemalePop    39 non-null float64\n",
      "dtypes: float64(9), int64(1), object(2)\n",
      "memory usage: 4.2+ KB\n"
     ]
    }
   ],
   "source": [
    "states.info()"
   ]
  },
  {
   "cell_type": "code",
   "execution_count": 16,
   "metadata": {},
   "outputs": [],
   "source": [
    "states['Pacific'].fillna(states['Pacific'].mean(),inplace=True)"
   ]
  },
  {
   "cell_type": "code",
   "execution_count": 17,
   "metadata": {},
   "outputs": [
    {
     "name": "stdout",
     "output_type": "stream",
     "text": [
      "<class 'pandas.core.frame.DataFrame'>\n",
      "Int64Index: 41 entries, 0 to 5\n",
      "Data columns (total 12 columns):\n",
      "State        41 non-null object\n",
      "TotalPop     41 non-null int64\n",
      "Hispanic     41 non-null float64\n",
      "White        41 non-null float64\n",
      "Black        41 non-null float64\n",
      "Native       41 non-null float64\n",
      "Asian        41 non-null float64\n",
      "Pacific      41 non-null float64\n",
      "Income       41 non-null float64\n",
      "GenderPop    41 non-null object\n",
      "MalePop      41 non-null float64\n",
      "FemalePop    39 non-null float64\n",
      "dtypes: float64(9), int64(1), object(2)\n",
      "memory usage: 4.2+ KB\n"
     ]
    }
   ],
   "source": [
    "states.info()"
   ]
  },
  {
   "cell_type": "code",
   "execution_count": 18,
   "metadata": {},
   "outputs": [
    {
     "data": {
      "text/html": [
       "<div>\n",
       "<style scoped>\n",
       "    .dataframe tbody tr th:only-of-type {\n",
       "        vertical-align: middle;\n",
       "    }\n",
       "\n",
       "    .dataframe tbody tr th {\n",
       "        vertical-align: top;\n",
       "    }\n",
       "\n",
       "    .dataframe thead th {\n",
       "        text-align: right;\n",
       "    }\n",
       "</style>\n",
       "<table border=\"1\" class=\"dataframe\">\n",
       "  <thead>\n",
       "    <tr style=\"text-align: right;\">\n",
       "      <th></th>\n",
       "      <th>State</th>\n",
       "      <th>TotalPop</th>\n",
       "      <th>Hispanic</th>\n",
       "      <th>White</th>\n",
       "      <th>Black</th>\n",
       "      <th>Native</th>\n",
       "      <th>Asian</th>\n",
       "      <th>Pacific</th>\n",
       "      <th>Income</th>\n",
       "      <th>GenderPop</th>\n",
       "      <th>MalePop</th>\n",
       "      <th>FemalePop</th>\n",
       "    </tr>\n",
       "  </thead>\n",
       "  <tbody>\n",
       "    <tr>\n",
       "      <th>5</th>\n",
       "      <td>Maryland</td>\n",
       "      <td>5930538</td>\n",
       "      <td>8.472498</td>\n",
       "      <td>52.679050</td>\n",
       "      <td>30.677754</td>\n",
       "      <td>0.203096</td>\n",
       "      <td>5.325414</td>\n",
       "      <td>0.036285</td>\n",
       "      <td>78765.400725</td>\n",
       "      <td>2872643M_F</td>\n",
       "      <td>2872643.0</td>\n",
       "      <td>NaN</td>\n",
       "    </tr>\n",
       "    <tr>\n",
       "      <th>1</th>\n",
       "      <td>Montana</td>\n",
       "      <td>1014699</td>\n",
       "      <td>3.268889</td>\n",
       "      <td>86.415556</td>\n",
       "      <td>0.429259</td>\n",
       "      <td>7.060741</td>\n",
       "      <td>0.570370</td>\n",
       "      <td>0.072222</td>\n",
       "      <td>47645.682836</td>\n",
       "      <td>510163M_F</td>\n",
       "      <td>510163.0</td>\n",
       "      <td>NaN</td>\n",
       "    </tr>\n",
       "  </tbody>\n",
       "</table>\n",
       "</div>"
      ],
      "text/plain": [
       "      State  TotalPop  Hispanic      White      Black    Native     Asian  \\\n",
       "5  Maryland   5930538  8.472498  52.679050  30.677754  0.203096  5.325414   \n",
       "1   Montana   1014699  3.268889  86.415556   0.429259  7.060741  0.570370   \n",
       "\n",
       "    Pacific        Income   GenderPop    MalePop  FemalePop  \n",
       "5  0.036285  78765.400725  2872643M_F  2872643.0        NaN  \n",
       "1  0.072222  47645.682836   510163M_F   510163.0        NaN  "
      ]
     },
     "execution_count": 18,
     "metadata": {},
     "output_type": "execute_result"
    }
   ],
   "source": [
    "states[states['FemalePop'].isnull()]"
   ]
  },
  {
   "cell_type": "code",
   "execution_count": 19,
   "metadata": {},
   "outputs": [],
   "source": [
    "states['FemalePop'] = states['TotalPop'] - states['MalePop']"
   ]
  },
  {
   "cell_type": "code",
   "execution_count": 20,
   "metadata": {},
   "outputs": [
    {
     "name": "stdout",
     "output_type": "stream",
     "text": [
      "<class 'pandas.core.frame.DataFrame'>\n",
      "Int64Index: 41 entries, 0 to 5\n",
      "Data columns (total 12 columns):\n",
      "State        41 non-null object\n",
      "TotalPop     41 non-null int64\n",
      "Hispanic     41 non-null float64\n",
      "White        41 non-null float64\n",
      "Black        41 non-null float64\n",
      "Native       41 non-null float64\n",
      "Asian        41 non-null float64\n",
      "Pacific      41 non-null float64\n",
      "Income       41 non-null float64\n",
      "GenderPop    41 non-null object\n",
      "MalePop      41 non-null float64\n",
      "FemalePop    41 non-null float64\n",
      "dtypes: float64(9), int64(1), object(2)\n",
      "memory usage: 4.2+ KB\n"
     ]
    }
   ],
   "source": [
    "states.info()"
   ]
  },
  {
   "cell_type": "code",
   "execution_count": 22,
   "metadata": {},
   "outputs": [
    {
     "data": {
      "text/plain": [
       "<matplotlib.collections.PathCollection at 0x18d133e69b0>"
      ]
     },
     "execution_count": 22,
     "metadata": {},
     "output_type": "execute_result"
    },
    {
     "data": {
      "image/png": "[encoded data removed]",
      "text/plain": [
       "<Figure size 720x432 with 1 Axes>"
      ]
     },
     "metadata": {
      "needs_background": "light"
     },
     "output_type": "display_data"
    }
   ],
   "source": [
    "plt.figure(figsize=(10,6))\n",
    "plt.scatter(x = states['FemalePop'], y = states['Income'])"
   ]
  },
  {
   "cell_type": "code",
   "execution_count": 23,
   "metadata": {},
   "outputs": [
    {
     "data": {
      "text/plain": [
       "<matplotlib.collections.PathCollection at 0x18d134188d0>"
      ]
     },
     "execution_count": 23,
     "metadata": {},
     "output_type": "execute_result"
    },
    {
     "data": {
      "image/png": "[encoded data removed]",
      "text/plain": [
       "<Figure size 720x432 with 1 Axes>"
      ]
     },
     "metadata": {
      "needs_background": "light"
     },
     "output_type": "display_data"
    }
   ],
   "source": [
    "plt.figure(figsize=(10,6))\n",
    "plt.scatter(x = states['MalePop'], y = states['Income'])"
   ]
  },
  {
   "cell_type": "code",
   "execution_count": 24,
   "metadata": {},
   "outputs": [
    {
     "data": {
      "text/plain": [
       "(array([18.,  9.,  8.,  2.,  0.,  1.,  0.,  1.,  0.,  1.,  0.,  0.,  0.,\n",
       "         0.,  0.,  0.,  0.,  0.,  0.,  1.]),\n",
       " array([ 1.29090909,  6.17104233, 11.05117557, 15.9313088 , 20.81144204,\n",
       "        25.69157528, 30.57170852, 35.45184175, 40.33197499, 45.21210823,\n",
       "        50.09224147, 54.97237471, 59.85250794, 64.73264118, 69.61277442,\n",
       "        74.49290766, 79.37304089, 84.25317413, 89.13330737, 94.01344061,\n",
       "        98.89357384]),\n",
       " <a list of 20 Patch objects>)"
      ]
     },
     "execution_count": 24,
     "metadata": {},
     "output_type": "execute_result"
    },
    {
     "data": {
      "image/png": "[encoded data removed]",
      "text/plain": [
       "<Figure size 720x432 with 1 Axes>"
      ]
     },
     "metadata": {
      "needs_background": "light"
     },
     "output_type": "display_data"
    }
   ],
   "source": [
    "plt.figure(figsize=(10,6))\n",
    "plt.hist(states['Hispanic'],bins=20)"
   ]
  },
  {
   "cell_type": "code",
   "execution_count": 25,
   "metadata": {},
   "outputs": [
    {
     "name": "stderr",
     "output_type": "stream",
     "text": [
      "C:\\Users\\LENOVO\\Anaconda3\\lib\\site-packages\\pandas\\plotting\\_tools.py:307: MatplotlibDeprecationWarning: \n",
      "The rowNum attribute was deprecated in Matplotlib 3.2 and will be removed two minor releases later. Use ax.get_subplotspec().rowspan.start instead.\n",
      "  layout[ax.rowNum, ax.colNum] = ax.get_visible()\n",
      "C:\\Users\\LENOVO\\Anaconda3\\lib\\site-packages\\pandas\\plotting\\_tools.py:307: MatplotlibDeprecationWarning: \n",
      "The colNum attribute was deprecated in Matplotlib 3.2 and will be removed two minor releases later. Use ax.get_subplotspec().colspan.start instead.\n",
      "  layout[ax.rowNum, ax.colNum] = ax.get_visible()\n",
      "C:\\Users\\LENOVO\\Anaconda3\\lib\\site-packages\\pandas\\plotting\\_tools.py:313: MatplotlibDeprecationWarning: \n",
      "The rowNum attribute was deprecated in Matplotlib 3.2 and will be removed two minor releases later. Use ax.get_subplotspec().rowspan.start instead.\n",
      "  if not layout[ax.rowNum + 1, ax.colNum]:\n",
      "C:\\Users\\LENOVO\\Anaconda3\\lib\\site-packages\\pandas\\plotting\\_tools.py:313: MatplotlibDeprecationWarning: \n",
      "The colNum attribute was deprecated in Matplotlib 3.2 and will be removed two minor releases later. Use ax.get_subplotspec().colspan.start instead.\n",
      "  if not layout[ax.rowNum + 1, ax.colNum]:\n"
     ]
    },
    {
     "data": {
      "text/plain": [
       "array([[<matplotlib.axes._subplots.AxesSubplot object at 0x0000018D134F9FD0>,\n",
       "        <matplotlib.axes._subplots.AxesSubplot object at 0x0000018D13453E80>,\n",
       "        <matplotlib.axes._subplots.AxesSubplot object at 0x0000018D13506240>],\n",
       "       [<matplotlib.axes._subplots.AxesSubplot object at 0x0000018D13611E10>,\n",
       "        <matplotlib.axes._subplots.AxesSubplot object at 0x0000018D136510B8>,\n",
       "        <matplotlib.axes._subplots.AxesSubplot object at 0x0000018D13686320>],\n",
       "       [<matplotlib.axes._subplots.AxesSubplot object at 0x0000018D136B8588>,\n",
       "        <matplotlib.axes._subplots.AxesSubplot object at 0x0000018D136ED7B8>,\n",
       "        <matplotlib.axes._subplots.AxesSubplot object at 0x0000018D136ED828>],\n",
       "       [<matplotlib.axes._subplots.AxesSubplot object at 0x0000018D13756CC0>,\n",
       "        <matplotlib.axes._subplots.AxesSubplot object at 0x0000018D1378AF28>,\n",
       "        <matplotlib.axes._subplots.AxesSubplot object at 0x0000018D137CA1D0>]],\n",
       "      dtype=object)"
      ]
     },
     "execution_count": 25,
     "metadata": {},
     "output_type": "execute_result"
    },
    {
     "data": {
      "image/png": "[encoded data removed]",
      "text/plain": [
       "<Figure size 1440x1296 with 12 Axes>"
      ]
     },
     "metadata": {
      "needs_background": "light"
     },
     "output_type": "display_data"
    }
   ],
   "source": [
    "states.hist(bins=50,figsize=(20,18))"
   ]
  },
  {
   "cell_type": "code",
   "execution_count": 26,
   "metadata": {},
   "outputs": [
    {
     "data": {
      "image/png": "[encoded data removed]",
      "text/plain": [
       "<Figure size 1152x720 with 1 Axes>"
      ]
     },
     "metadata": {
      "needs_background": "light"
     },
     "output_type": "display_data"
    }
   ],
   "source": [
    "plt.figure(figsize=(16,10))\n",
    "plt.bar(states['State'],states['Hispanic'])\n",
    "plt.tight_layout()"
   ]
  },
  {
   "cell_type": "markdown",
   "metadata": {},
   "source": [
    "## Petal Power Inventory Data"
   ]
  },
  {
   "cell_type": "code",
   "execution_count": 30,
   "metadata": {},
   "outputs": [],
   "source": [
    "inventory = pd.read_csv('inventory.csv')"
   ]
  },
  {
   "cell_type": "code",
   "execution_count": 31,
   "metadata": {},
   "outputs": [
    {
     "name": "stdout",
     "output_type": "stream",
     "text": [
      "<class 'pandas.core.frame.DataFrame'>\n",
      "RangeIndex: 29 entries, 0 to 28\n",
      "Data columns (total 5 columns):\n",
      "location               29 non-null object\n",
      "product_type           29 non-null object\n",
      "product_description    29 non-null object\n",
      "quantity               29 non-null int64\n",
      "price                  29 non-null float64\n",
      "dtypes: float64(1), int64(1), object(3)\n",
      "memory usage: 1.2+ KB\n"
     ]
    }
   ],
   "source": [
    "inventory.info()"
   ]
  },
  {
   "cell_type": "code",
   "execution_count": 32,
   "metadata": {},
   "outputs": [
    {
     "data": {
      "text/html": [
       "<div>\n",
       "<style scoped>\n",
       "    .dataframe tbody tr th:only-of-type {\n",
       "        vertical-align: middle;\n",
       "    }\n",
       "\n",
       "    .dataframe tbody tr th {\n",
       "        vertical-align: top;\n",
       "    }\n",
       "\n",
       "    .dataframe thead th {\n",
       "        text-align: right;\n",
       "    }\n",
       "</style>\n",
       "<table border=\"1\" class=\"dataframe\">\n",
       "  <thead>\n",
       "    <tr style=\"text-align: right;\">\n",
       "      <th></th>\n",
       "      <th>location</th>\n",
       "      <th>product_type</th>\n",
       "      <th>product_description</th>\n",
       "      <th>quantity</th>\n",
       "      <th>price</th>\n",
       "    </tr>\n",
       "  </thead>\n",
       "  <tbody>\n",
       "    <tr>\n",
       "      <th>0</th>\n",
       "      <td>Staten Island</td>\n",
       "      <td>seeds</td>\n",
       "      <td>daisy</td>\n",
       "      <td>4</td>\n",
       "      <td>6.99</td>\n",
       "    </tr>\n",
       "    <tr>\n",
       "      <th>1</th>\n",
       "      <td>Staten Island</td>\n",
       "      <td>seeds</td>\n",
       "      <td>calla lily</td>\n",
       "      <td>46</td>\n",
       "      <td>19.99</td>\n",
       "    </tr>\n",
       "    <tr>\n",
       "      <th>2</th>\n",
       "      <td>Staten Island</td>\n",
       "      <td>seeds</td>\n",
       "      <td>tomato</td>\n",
       "      <td>85</td>\n",
       "      <td>13.99</td>\n",
       "    </tr>\n",
       "    <tr>\n",
       "      <th>3</th>\n",
       "      <td>Staten Island</td>\n",
       "      <td>garden tools</td>\n",
       "      <td>rake</td>\n",
       "      <td>4</td>\n",
       "      <td>13.99</td>\n",
       "    </tr>\n",
       "    <tr>\n",
       "      <th>4</th>\n",
       "      <td>Staten Island</td>\n",
       "      <td>garden tools</td>\n",
       "      <td>wheelbarrow</td>\n",
       "      <td>0</td>\n",
       "      <td>89.99</td>\n",
       "    </tr>\n",
       "    <tr>\n",
       "      <th>5</th>\n",
       "      <td>Staten Island</td>\n",
       "      <td>garden tools</td>\n",
       "      <td>spade</td>\n",
       "      <td>93</td>\n",
       "      <td>19.99</td>\n",
       "    </tr>\n",
       "    <tr>\n",
       "      <th>6</th>\n",
       "      <td>Staten Island</td>\n",
       "      <td>pest_control</td>\n",
       "      <td>insect killer</td>\n",
       "      <td>74</td>\n",
       "      <td>12.99</td>\n",
       "    </tr>\n",
       "    <tr>\n",
       "      <th>7</th>\n",
       "      <td>Staten Island</td>\n",
       "      <td>pest_control</td>\n",
       "      <td>weed killer</td>\n",
       "      <td>8</td>\n",
       "      <td>23.99</td>\n",
       "    </tr>\n",
       "    <tr>\n",
       "      <th>8</th>\n",
       "      <td>Staten Island</td>\n",
       "      <td>planter</td>\n",
       "      <td>20 inch terracotta planter</td>\n",
       "      <td>0</td>\n",
       "      <td>17.99</td>\n",
       "    </tr>\n",
       "    <tr>\n",
       "      <th>9</th>\n",
       "      <td>Staten Island</td>\n",
       "      <td>planter</td>\n",
       "      <td>8 inch plastic planter</td>\n",
       "      <td>53</td>\n",
       "      <td>3.99</td>\n",
       "    </tr>\n",
       "  </tbody>\n",
       "</table>\n",
       "</div>"
      ],
      "text/plain": [
       "        location  product_type         product_description  quantity  price\n",
       "0  Staten Island         seeds                       daisy         4   6.99\n",
       "1  Staten Island         seeds                  calla lily        46  19.99\n",
       "2  Staten Island         seeds                      tomato        85  13.99\n",
       "3  Staten Island  garden tools                        rake         4  13.99\n",
       "4  Staten Island  garden tools                 wheelbarrow         0  89.99\n",
       "5  Staten Island  garden tools                       spade        93  19.99\n",
       "6  Staten Island  pest_control               insect killer        74  12.99\n",
       "7  Staten Island  pest_control                 weed killer         8  23.99\n",
       "8  Staten Island       planter  20 inch terracotta planter         0  17.99\n",
       "9  Staten Island       planter      8 inch plastic planter        53   3.99"
      ]
     },
     "execution_count": 32,
     "metadata": {},
     "output_type": "execute_result"
    }
   ],
   "source": [
    "inventory.head(10)"
   ]
  },
  {
   "cell_type": "code",
   "execution_count": 33,
   "metadata": {},
   "outputs": [],
   "source": [
    "statenIsland = inventory[inventory['location'] == 'Staten Island']"
   ]
  },
  {
   "cell_type": "code",
   "execution_count": 35,
   "metadata": {},
   "outputs": [],
   "source": [
    "product_request = statenIsland['product_type'].unique()"
   ]
  },
  {
   "cell_type": "code",
   "execution_count": 36,
   "metadata": {},
   "outputs": [
    {
     "name": "stdout",
     "output_type": "stream",
     "text": [
      "10         daisy\n",
      "11    calla lily\n",
      "12        tomato\n",
      "Name: product_description, dtype: object\n"
     ]
    }
   ],
   "source": [
    "seed_request = inventory[(inventory['location'] == 'Brooklyn') & (inventory['product_type'] == 'seeds')]['product_description']\n",
    "print(seed_request)"
   ]
  },
  {
   "cell_type": "code",
   "execution_count": 37,
   "metadata": {},
   "outputs": [],
   "source": [
    "inventory['in_stock'] = inventory['quantity'].apply(lambda x: True if x>0 else False)"
   ]
  },
  {
   "cell_type": "code",
   "execution_count": 38,
   "metadata": {},
   "outputs": [
    {
     "data": {
      "text/html": [
       "<div>\n",
       "<style scoped>\n",
       "    .dataframe tbody tr th:only-of-type {\n",
       "        vertical-align: middle;\n",
       "    }\n",
       "\n",
       "    .dataframe tbody tr th {\n",
       "        vertical-align: top;\n",
       "    }\n",
       "\n",
       "    .dataframe thead th {\n",
       "        text-align: right;\n",
       "    }\n",
       "</style>\n",
       "<table border=\"1\" class=\"dataframe\">\n",
       "  <thead>\n",
       "    <tr style=\"text-align: right;\">\n",
       "      <th></th>\n",
       "      <th>location</th>\n",
       "      <th>product_type</th>\n",
       "      <th>product_description</th>\n",
       "      <th>quantity</th>\n",
       "      <th>price</th>\n",
       "      <th>in_stock</th>\n",
       "    </tr>\n",
       "  </thead>\n",
       "  <tbody>\n",
       "    <tr>\n",
       "      <th>0</th>\n",
       "      <td>Staten Island</td>\n",
       "      <td>seeds</td>\n",
       "      <td>daisy</td>\n",
       "      <td>4</td>\n",
       "      <td>6.99</td>\n",
       "      <td>True</td>\n",
       "    </tr>\n",
       "    <tr>\n",
       "      <th>1</th>\n",
       "      <td>Staten Island</td>\n",
       "      <td>seeds</td>\n",
       "      <td>calla lily</td>\n",
       "      <td>46</td>\n",
       "      <td>19.99</td>\n",
       "      <td>True</td>\n",
       "    </tr>\n",
       "    <tr>\n",
       "      <th>2</th>\n",
       "      <td>Staten Island</td>\n",
       "      <td>seeds</td>\n",
       "      <td>tomato</td>\n",
       "      <td>85</td>\n",
       "      <td>13.99</td>\n",
       "      <td>True</td>\n",
       "    </tr>\n",
       "    <tr>\n",
       "      <th>3</th>\n",
       "      <td>Staten Island</td>\n",
       "      <td>garden tools</td>\n",
       "      <td>rake</td>\n",
       "      <td>4</td>\n",
       "      <td>13.99</td>\n",
       "      <td>True</td>\n",
       "    </tr>\n",
       "    <tr>\n",
       "      <th>4</th>\n",
       "      <td>Staten Island</td>\n",
       "      <td>garden tools</td>\n",
       "      <td>wheelbarrow</td>\n",
       "      <td>0</td>\n",
       "      <td>89.99</td>\n",
       "      <td>False</td>\n",
       "    </tr>\n",
       "  </tbody>\n",
       "</table>\n",
       "</div>"
      ],
      "text/plain": [
       "        location  product_type product_description  quantity  price  in_stock\n",
       "0  Staten Island         seeds               daisy         4   6.99      True\n",
       "1  Staten Island         seeds          calla lily        46  19.99      True\n",
       "2  Staten Island         seeds              tomato        85  13.99      True\n",
       "3  Staten Island  garden tools                rake         4  13.99      True\n",
       "4  Staten Island  garden tools         wheelbarrow         0  89.99     False"
      ]
     },
     "execution_count": 38,
     "metadata": {},
     "output_type": "execute_result"
    }
   ],
   "source": [
    "inventory.head()"
   ]
  },
  {
   "cell_type": "code",
   "execution_count": 39,
   "metadata": {},
   "outputs": [],
   "source": [
    "inventory['total_value'] = inventory['price'] * inventory['quantity']"
   ]
  },
  {
   "cell_type": "code",
   "execution_count": 40,
   "metadata": {},
   "outputs": [
    {
     "data": {
      "text/html": [
       "<div>\n",
       "<style scoped>\n",
       "    .dataframe tbody tr th:only-of-type {\n",
       "        vertical-align: middle;\n",
       "    }\n",
       "\n",
       "    .dataframe tbody tr th {\n",
       "        vertical-align: top;\n",
       "    }\n",
       "\n",
       "    .dataframe thead th {\n",
       "        text-align: right;\n",
       "    }\n",
       "</style>\n",
       "<table border=\"1\" class=\"dataframe\">\n",
       "  <thead>\n",
       "    <tr style=\"text-align: right;\">\n",
       "      <th></th>\n",
       "      <th>location</th>\n",
       "      <th>product_type</th>\n",
       "      <th>product_description</th>\n",
       "      <th>quantity</th>\n",
       "      <th>price</th>\n",
       "      <th>in_stock</th>\n",
       "      <th>total_value</th>\n",
       "    </tr>\n",
       "  </thead>\n",
       "  <tbody>\n",
       "    <tr>\n",
       "      <th>0</th>\n",
       "      <td>Staten Island</td>\n",
       "      <td>seeds</td>\n",
       "      <td>daisy</td>\n",
       "      <td>4</td>\n",
       "      <td>6.99</td>\n",
       "      <td>True</td>\n",
       "      <td>27.96</td>\n",
       "    </tr>\n",
       "    <tr>\n",
       "      <th>1</th>\n",
       "      <td>Staten Island</td>\n",
       "      <td>seeds</td>\n",
       "      <td>calla lily</td>\n",
       "      <td>46</td>\n",
       "      <td>19.99</td>\n",
       "      <td>True</td>\n",
       "      <td>919.54</td>\n",
       "    </tr>\n",
       "    <tr>\n",
       "      <th>2</th>\n",
       "      <td>Staten Island</td>\n",
       "      <td>seeds</td>\n",
       "      <td>tomato</td>\n",
       "      <td>85</td>\n",
       "      <td>13.99</td>\n",
       "      <td>True</td>\n",
       "      <td>1189.15</td>\n",
       "    </tr>\n",
       "    <tr>\n",
       "      <th>3</th>\n",
       "      <td>Staten Island</td>\n",
       "      <td>garden tools</td>\n",
       "      <td>rake</td>\n",
       "      <td>4</td>\n",
       "      <td>13.99</td>\n",
       "      <td>True</td>\n",
       "      <td>55.96</td>\n",
       "    </tr>\n",
       "    <tr>\n",
       "      <th>4</th>\n",
       "      <td>Staten Island</td>\n",
       "      <td>garden tools</td>\n",
       "      <td>wheelbarrow</td>\n",
       "      <td>0</td>\n",
       "      <td>89.99</td>\n",
       "      <td>False</td>\n",
       "      <td>0.00</td>\n",
       "    </tr>\n",
       "  </tbody>\n",
       "</table>\n",
       "</div>"
      ],
      "text/plain": [
       "        location  product_type product_description  quantity  price  in_stock  \\\n",
       "0  Staten Island         seeds               daisy         4   6.99      True   \n",
       "1  Staten Island         seeds          calla lily        46  19.99      True   \n",
       "2  Staten Island         seeds              tomato        85  13.99      True   \n",
       "3  Staten Island  garden tools                rake         4  13.99      True   \n",
       "4  Staten Island  garden tools         wheelbarrow         0  89.99     False   \n",
       "\n",
       "   total_value  \n",
       "0        27.96  \n",
       "1       919.54  \n",
       "2      1189.15  \n",
       "3        55.96  \n",
       "4         0.00  "
      ]
     },
     "execution_count": 40,
     "metadata": {},
     "output_type": "execute_result"
    }
   ],
   "source": [
    "inventory.head()"
   ]
  },
  {
   "cell_type": "code",
   "execution_count": null,
   "metadata": {},
   "outputs": [],
   "source": []
  }
 ],
 "metadata": {
  "kernelspec": {
   "display_name": "Python 3",
   "language": "python",
   "name": "python3"
  },
  "language_info": {
   "codemirror_mode": {
    "name": "ipython",
    "version": 3
   },
   "file_extension": ".py",
   "mimetype": "text/x-python",
   "name": "python",
   "nbconvert_exporter": "python",
   "pygments_lexer": "ipython3",
   "version": "3.7.3"
  }
 },
 "nbformat": 4,
 "nbformat_minor": 2
}
